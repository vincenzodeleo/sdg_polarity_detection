{
  "cells": [
    {
      "cell_type": "code",
      "execution_count": null,
      "metadata": {
        "id": "EIwdVOThN_Rf"
      },
      "outputs": [],
      "source": [
        "# https://pub.towardsai.net/run-mixtral-8x7b-on-google-colab-free-d855686a385b\n",
        "\n",
        "# https://www.youtube.com/watch?v=Zo3CTapKJ4I\n",
        "\n",
        "# https://colab.research.google.com/github/dvmazur/mixtral-offloading/blob/master/notebooks/demo.ipynb"
      ]
    },
    {
      "cell_type": "code",
      "execution_count": null,
      "metadata": {
        "id": "KIg0o9spt4YD"
      },
      "outputs": [],
      "source": [
        "pip install -q boto3 --progress-bar off"
      ]
    },
    {
      "cell_type": "code",
      "execution_count": null,
      "metadata": {
        "id": "r9rwKjDIt7vt"
      },
      "outputs": [],
      "source": [
        "# INSERT AWS KEYS AND TOKEN\n",
        "from IPython.display import clear_output\n",
        "\n",
        "my_aws_access_key_id = input(\"INSERT YOUR aws_access_key_id:\")\n",
        "my_aws_secret_access_key = input(\"INSERT YOUR aws_secret_access_key:\")\n",
        "my_aws_session_token = input(\"INSERT YOUR aws_session_token:\")\n",
        "\n",
        "clear_output()"
      ]
    },
    {
      "cell_type": "code",
      "execution_count": null,
      "metadata": {
        "id": "gte0GqkPt9YD"
      },
      "outputs": [],
      "source": [
        "import boto3\n",
        "\n",
        "# Inizializza il client DynamoDB con le credenziali manuali\n",
        "dynamodb = boto3.resource(\n",
        "    'dynamodb',\n",
        "    region_name='eu-west-1',\n",
        "    aws_access_key_id=my_aws_access_key_id,\n",
        "    aws_secret_access_key=my_aws_secret_access_key,\n",
        "    aws_session_token=my_aws_session_token\n",
        ")\n",
        "\n",
        "table = dynamodb.Table('processed_ids')"
      ]
    },
    {
      "cell_type": "code",
      "execution_count": null,
      "metadata": {
        "id": "5I3xO924uBiv"
      },
      "outputs": [],
      "source": [
        "# Funzione per aggiungere un nuovo record\n",
        "def add_record(table, text_id):\n",
        "    # Dati del nuovo record\n",
        "    item = {\n",
        "        'text_id': text_id  # Colonna e valore da inserire\n",
        "        # Aggiungi qui altre colonne se necessario, ad esempio:\n",
        "        # 'another_column': 'some_value'\n",
        "    }\n",
        "\n",
        "    # Aggiungi il record nella tabella\n",
        "    try:\n",
        "        table.put_item(Item=item)\n",
        "        print(f\"Record aggiunto con successo: {item}\")\n",
        "    except Exception as e:\n",
        "        print(f\"Errore durante l'inserimento del record: {e}\")\n",
        "\n",
        "# Funzione per estrarre tutti i valori della colonna 'text_id'\n",
        "def extract_all_processed_text_ids(table):\n",
        "    try:\n",
        "        # Scansione iniziale della tabella\n",
        "        response = table.scan()\n",
        "        items = response['Items']\n",
        "\n",
        "        # Lista per contenere i valori 'text_id'\n",
        "        text_id_list = [item['text_id'] for item in items]\n",
        "\n",
        "        # Gestione della paginazione (se ci sono più pagine di dati)\n",
        "        while 'LastEvaluatedKey' in response:\n",
        "            response = table.scan(ExclusiveStartKey=response['LastEvaluatedKey'])\n",
        "            items = response['Items']\n",
        "            text_id_list.extend([item['text_id'] for item in items])\n",
        "\n",
        "        return text_id_list\n",
        "\n",
        "    except Exception as e:\n",
        "        print(f\"Errore durante l'estrazione: {e}\")\n",
        "        return []"
      ]
    },
    {
      "cell_type": "code",
      "execution_count": null,
      "metadata": {
        "id": "EPC1S1qckyg8"
      },
      "outputs": [],
      "source": [
        "import pickle"
      ]
    },
    {
      "cell_type": "code",
      "execution_count": null,
      "metadata": {
        "id": "tnHgiostRgYS"
      },
      "outputs": [],
      "source": [
        "experiment_name = \"2024.09.23-02_AnalisiSentimentConMixtral\""
      ]
    },
    {
      "cell_type": "code",
      "execution_count": null,
      "metadata": {
        "id": "rIqzTnY8aDcY"
      },
      "outputs": [],
      "source": [
        "# !huggingface-cli login --token ####################\n",
        "\n",
        "from IPython.display import clear_output\n",
        "huggingface_cli_token = input(\"INSERT YOUR huggingface-cli_token:\")\n",
        "clear_output()"
      ]
    },
    {
      "cell_type": "code",
      "execution_count": null,
      "metadata": {
        "colab": {
          "base_uri": "https://localhost:8080/"
        },
        "id": "7MygEvCHa5Qy",
        "outputId": "7507c5d9-8e31-400a-b7bd-abcb1132a131"
      },
      "outputs": [
        {
          "output_type": "stream",
          "name": "stdout",
          "text": [
            "The token has not been saved to the git credentials helper. Pass `add_to_git_credential=True` in this function directly or `--add-to-git-credential` if using via `huggingface-cli` if you want to set the git credential as well.\n",
            "Token is valid (permission: write).\n",
            "Your token has been saved to /root/.cache/huggingface/token\n",
            "Login successful\n"
          ]
        }
      ],
      "source": [
        "!huggingface-cli login --token $huggingface_cli_token"
      ]
    },
    {
      "cell_type": "code",
      "execution_count": null,
      "metadata": {
        "colab": {
          "base_uri": "https://localhost:8080/"
        },
        "id": "Rn6InP2oRhH7",
        "outputId": "8937ab71-4580-47b5-87e5-d68c49a53cc5"
      },
      "outputs": [
        {
          "output_type": "stream",
          "name": "stdout",
          "text": [
            "Mounted at /content/gdrive\n"
          ]
        }
      ],
      "source": [
        "from google.colab import drive\n",
        "from IPython.display import Image, display\n",
        "\n",
        "mount_point = \"/content/gdrive\"\n",
        "base_path = mount_point + \"/MyDrive/Colab/SDG/data\"\n",
        "\n",
        "input_data_path = base_path + \"/../AnalisiTesti/data/output/full_data___6400_texts___sentiment_sdgwashing_sdgsmearing.xlsx\"\n",
        "\n",
        "output_data_path = base_path + \"/../AnalisiTesti/data/output/\" + experiment_name\n",
        "log_filename = base_path + \"/../AnalisiTesti/logs/\" + experiment_name + \".log\"\n",
        "\n",
        "drive.mount(mount_point, force_remount=True)"
      ]
    },
    {
      "cell_type": "code",
      "execution_count": null,
      "metadata": {
        "id": "r-7RqXQWe31T"
      },
      "outputs": [],
      "source": [
        "# @title\n",
        "import pandas as pd\n",
        "data = pd.read_excel(input_data_path)"
      ]
    },
    {
      "cell_type": "code",
      "execution_count": null,
      "metadata": {
        "cellView": "form",
        "id": "dUCruTnUECQg"
      },
      "outputs": [],
      "source": [
        "# @title\n",
        "# import glob\n",
        "\n",
        "# def update_data(data_sel):\n",
        "#   drive.mount(mount_point, force_remount=True)\n",
        "\n",
        "#   results = []\n",
        "#   files = glob.glob(output_data_path + f\"/*.pkl\")\n",
        "#   for file in files:\n",
        "#     res = pd.read_pickle(file)\n",
        "#     results.append(res)\n",
        "#   print(len(results))\n",
        "\n",
        "#   df = pd.DataFrame(results, columns=['cnt', 'text_id', 'sdg_true', 'output'])\n",
        "#   processed_texts = df.text_id.to_list()\n",
        "#   print(processed_texts)\n",
        "\n",
        "#   before = data_sel.shape[0]\n",
        "#   print(\"Full dataset size:               \", before)\n",
        "#   data = data_sel[~data_sel.text_id.isin(processed_texts)].copy() # DEEP COPY\n",
        "#   after = data.shape[0]\n",
        "#   print(\"Amount of files to be processed: \", after)\n",
        "#   before - after\n",
        "\n",
        "#   return data.sample(frac=1.00)\n",
        "\n",
        "# # data_sel = update_data(data_sel)\n",
        "# # data_sel.shape[0]"
      ]
    },
    {
      "cell_type": "code",
      "execution_count": null,
      "metadata": {
        "cellView": "form",
        "id": "BaM4wKTDsmHp"
      },
      "outputs": [],
      "source": [
        "# @title\n",
        "# import glob\n",
        "\n",
        "# def update_data(data_sel):\n",
        "#   drive.mount(mount_point, force_remount=True)\n",
        "\n",
        "#   processed_texts = []\n",
        "\n",
        "#   files = glob.glob(output_data_path + f\"/*.pkl\")\n",
        "#   for file in files:\n",
        "#     processed_texts.append(file.split('_')[-1].split('.pkl')[0])\n",
        "\n",
        "#   #print(processed_texts)\n",
        "\n",
        "#   data = data_sel[~data_sel.text_id.isin(processed_texts)].copy() # DEEP COPY\n",
        "\n",
        "#   print(\"Amount of processed files: \", len(processed_texts))\n",
        "\n",
        "#   return data.sample(frac=1.00)\n",
        "\n",
        "# # data_sel = update_data(data_sel)\n",
        "# # data_sel.shape[0]"
      ]
    },
    {
      "cell_type": "code",
      "execution_count": null,
      "metadata": {
        "id": "08fHpY2OuTrG"
      },
      "outputs": [],
      "source": [
        "import glob\n",
        "\n",
        "def update_data(data_sel):\n",
        "\n",
        "  processed_texts_from_dynamodb = extract_all_processed_text_ids(table)\n",
        "\n",
        "  processed_texts_from_dynamodb = [int(x) for x in processed_texts_from_dynamodb]\n",
        "\n",
        "  #print(processed_texts_from_dynamodb)\n",
        "\n",
        "  data = data_sel[~data_sel.text_id.isin(processed_texts_from_dynamodb)].copy() # DEEP COPY\n",
        "\n",
        "  print(\"Amount of processed files: \", len(processed_texts_from_dynamodb))\n",
        "\n",
        "  return data.sample(frac=1.00)\n",
        "\n",
        "# data_sel = update_data(data_sel)\n",
        "# data_sel.shape[0]"
      ]
    },
    {
      "cell_type": "markdown",
      "metadata": {
        "id": "OW1moHJ1TdhO"
      },
      "source": [
        "# Mixtral in Colab\n",
        "\n",
        "Welcome! In this notebook you can run [Mixtral8x7B-Instruct](https://huggingface.co/mistralai/Mixtral-8x7B-v0.1) with decent generation speed **right in Google Colab or on a consumer-grade GPU**. This was made possible by quantizing the original model in mixed precision and implementing a MoE-specific offloading strategy.\n",
        "\n",
        "To learn more, read our [tech report](https://arxiv.org/abs/2312.17238) or check out the [repo](https://github.com/dvmazur/mixtral-offloading) on GitHub."
      ]
    },
    {
      "cell_type": "markdown",
      "metadata": {
        "id": "2-dvAX_hKZT4"
      },
      "source": [
        "One will need approximately 16 GB of VRAM and 11 GB of RAM to run this notebook and generate somewhat long texts.\n",
        "\n",
        "\n",
        "<details>\n",
        "\n",
        "<summary>How to balance between RAM and GPU VRAM usage</summary>\n",
        "\n",
        "You can balance between RAM and GPU VRAM usage by changing <code>offload_per_layer</code> variable in the <a href=\"#scrollTo=_mIpePTMFyRY&line=10&uniqifier=1\">Initialize model</a> section. Increasing <code>offload_per_layer</code> will decrease GPU VRAM usage, increase RAM usage and decrease generation speed. Decreasing <code>offload_per_layer</code> will have the opposite effect.\n",
        "\n",
        "Note that this notebook should run normally in Google Colab with <code>offload_per_layer = 4</code>, but may crush with other values. However, if you run this somewhere else, you're free to play with this variable.\n",
        "</details>"
      ]
    },
    {
      "cell_type": "markdown",
      "metadata": {
        "id": "Y8MhvkC7TKEL"
      },
      "source": [
        "## Install and import libraries"
      ]
    },
    {
      "cell_type": "code",
      "execution_count": null,
      "metadata": {
        "id": "f7qY7ebqX7T7"
      },
      "outputs": [],
      "source": [
        "# fix numpy in colab\n",
        "import numpy\n",
        "from IPython.display import clear_output\n",
        "\n",
        "# fix triton in colab\n",
        "!export LC_ALL=\"en_US.UTF-8\"\n",
        "!export LD_LIBRARY_PATH=\"/usr/lib64-nvidia\"\n",
        "!export LIBRARY_PATH=\"/usr/local/cuda/lib64/stubs\"\n",
        "!ldconfig /usr/lib64-nvidia\n",
        "\n",
        "!git clone https://github.com/dvmazur/mixtral-offloading.git --quiet\n",
        "!cd mixtral-offloading && pip install -q -r requirements.txt\n",
        "clear_output()"
      ]
    },
    {
      "cell_type": "code",
      "execution_count": null,
      "metadata": {
        "colab": {
          "base_uri": "https://localhost:8080/"
        },
        "id": "xRhdfcPr5HdC",
        "outputId": "c286972d-eafe-4102-8cdd-e9dc5a0663de"
      },
      "outputs": [
        {
          "output_type": "stream",
          "name": "stdout",
          "text": [
            "Requirement already satisfied: transformers in /usr/local/lib/python3.10/dist-packages (4.36.1)\n",
            "Collecting transformers\n",
            "  Downloading transformers-4.45.1-py3-none-any.whl.metadata (44 kB)\n",
            "\u001b[2K     \u001b[90m━━━━━━━━━━━━━━━━━━━━━━━━━━━━━━━━━━━━━━━━\u001b[0m \u001b[32m44.4/44.4 kB\u001b[0m \u001b[31m4.0 MB/s\u001b[0m eta \u001b[36m0:00:00\u001b[0m\n",
            "\u001b[?25hRequirement already satisfied: filelock in /usr/local/lib/python3.10/dist-packages (from transformers) (3.16.1)\n",
            "Requirement already satisfied: huggingface-hub<1.0,>=0.23.2 in /usr/local/lib/python3.10/dist-packages (from transformers) (0.24.7)\n",
            "Requirement already satisfied: numpy>=1.17 in /usr/local/lib/python3.10/dist-packages (from transformers) (1.24.4)\n",
            "Requirement already satisfied: packaging>=20.0 in /usr/local/lib/python3.10/dist-packages (from transformers) (24.1)\n",
            "Requirement already satisfied: pyyaml>=5.1 in /usr/local/lib/python3.10/dist-packages (from transformers) (6.0.2)\n",
            "Requirement already satisfied: regex!=2019.12.17 in /usr/local/lib/python3.10/dist-packages (from transformers) (2024.9.11)\n",
            "Requirement already satisfied: requests in /usr/local/lib/python3.10/dist-packages (from transformers) (2.32.3)\n",
            "Requirement already satisfied: safetensors>=0.4.1 in /usr/local/lib/python3.10/dist-packages (from transformers) (0.4.5)\n",
            "Collecting tokenizers<0.21,>=0.20 (from transformers)\n",
            "  Downloading tokenizers-0.20.0-cp310-cp310-manylinux_2_17_x86_64.manylinux2014_x86_64.whl.metadata (6.7 kB)\n",
            "Requirement already satisfied: tqdm>=4.27 in /usr/local/lib/python3.10/dist-packages (from transformers) (4.66.1)\n",
            "Requirement already satisfied: fsspec>=2023.5.0 in /usr/local/lib/python3.10/dist-packages (from huggingface-hub<1.0,>=0.23.2->transformers) (2024.6.1)\n",
            "Requirement already satisfied: typing-extensions>=3.7.4.3 in /usr/local/lib/python3.10/dist-packages (from huggingface-hub<1.0,>=0.23.2->transformers) (4.12.2)\n",
            "Requirement already satisfied: charset-normalizer<4,>=2 in /usr/local/lib/python3.10/dist-packages (from requests->transformers) (3.3.2)\n",
            "Requirement already satisfied: idna<4,>=2.5 in /usr/local/lib/python3.10/dist-packages (from requests->transformers) (3.10)\n",
            "Requirement already satisfied: urllib3<3,>=1.21.1 in /usr/local/lib/python3.10/dist-packages (from requests->transformers) (2.2.3)\n",
            "Requirement already satisfied: certifi>=2017.4.17 in /usr/local/lib/python3.10/dist-packages (from requests->transformers) (2024.8.30)\n",
            "Downloading transformers-4.45.1-py3-none-any.whl (9.9 MB)\n",
            "\u001b[2K   \u001b[90m━━━━━━━━━━━━━━━━━━━━━━━━━━━━━━━━━━━━━━━━\u001b[0m \u001b[32m9.9/9.9 MB\u001b[0m \u001b[31m43.9 MB/s\u001b[0m eta \u001b[36m0:00:00\u001b[0m\n",
            "\u001b[?25hDownloading tokenizers-0.20.0-cp310-cp310-manylinux_2_17_x86_64.manylinux2014_x86_64.whl (2.9 MB)\n",
            "\u001b[2K   \u001b[90m━━━━━━━━━━━━━━━━━━━━━━━━━━━━━━━━━━━━━━━━\u001b[0m \u001b[32m2.9/2.9 MB\u001b[0m \u001b[31m28.0 MB/s\u001b[0m eta \u001b[36m0:00:00\u001b[0m\n",
            "\u001b[?25hInstalling collected packages: tokenizers, transformers\n",
            "  Attempting uninstall: tokenizers\n",
            "    Found existing installation: tokenizers 0.15.2\n",
            "    Uninstalling tokenizers-0.15.2:\n",
            "      Successfully uninstalled tokenizers-0.15.2\n",
            "  Attempting uninstall: transformers\n",
            "    Found existing installation: transformers 4.36.1\n",
            "    Uninstalling transformers-4.36.1:\n",
            "      Successfully uninstalled transformers-4.36.1\n",
            "Successfully installed tokenizers-0.20.0 transformers-4.45.1\n",
            "Collecting triton\n",
            "  Downloading triton-3.0.0-1-cp310-cp310-manylinux2014_x86_64.manylinux_2_17_x86_64.whl.metadata (1.3 kB)\n",
            "Requirement already satisfied: filelock in /usr/local/lib/python3.10/dist-packages (from triton) (3.16.1)\n",
            "Downloading triton-3.0.0-1-cp310-cp310-manylinux2014_x86_64.manylinux_2_17_x86_64.whl (209.4 MB)\n",
            "\u001b[2K   \u001b[90m━━━━━━━━━━━━━━━━━━━━━━━━━━━━━━━━━━━━━━━━\u001b[0m \u001b[32m209.4/209.4 MB\u001b[0m \u001b[31m5.9 MB/s\u001b[0m eta \u001b[36m0:00:00\u001b[0m\n",
            "\u001b[?25hInstalling collected packages: triton\n",
            "Successfully installed triton-3.0.0\n"
          ]
        }
      ],
      "source": [
        "!pip install --upgrade transformers\n",
        "!pip install triton"
      ]
    },
    {
      "cell_type": "code",
      "execution_count": null,
      "metadata": {
        "colab": {
          "base_uri": "https://localhost:8080/"
        },
        "id": "GgpjnV7fV49W",
        "outputId": "63ef648e-8388-4bc3-eb44-227fe8223469"
      },
      "outputs": [
        {
          "output_type": "stream",
          "name": "stdout",
          "text": [
            "hqq_aten package not installed. HQQBackend.ATEN backend will not work unless you install the hqq_aten lib in hqq/kernels.\n"
          ]
        }
      ],
      "source": [
        "import sys\n",
        "\n",
        "sys.path.append(\"mixtral-offloading\")\n",
        "import torch\n",
        "from torch.nn import functional as F\n",
        "from hqq.core.quantize import BaseQuantizeConfig\n",
        "from huggingface_hub import snapshot_download\n",
        "from IPython.display import clear_output\n",
        "from tqdm.auto import trange\n",
        "from transformers import AutoConfig, AutoTokenizer\n",
        "from transformers.utils import logging as hf_logging\n",
        "\n",
        "from src.build_model import OffloadConfig, QuantConfig, build_model\n",
        "\n",
        "hf_logging.disable_progress_bar()"
      ]
    },
    {
      "cell_type": "markdown",
      "metadata": {
        "id": "OkSYibHcTQsH"
      },
      "source": [
        "## Initialize model"
      ]
    },
    {
      "cell_type": "code",
      "execution_count": null,
      "metadata": {
        "id": "BrlO6_lR1N1E"
      },
      "outputs": [],
      "source": [
        "# !huggingface-cli download lavawolfiee/Mixtral-8x7B-Instruct-v0.1-offloading-demo >& mixtral_download.log"
      ]
    },
    {
      "cell_type": "code",
      "execution_count": null,
      "metadata": {
        "colab": {
          "base_uri": "https://localhost:8080/",
          "height": 217,
          "referenced_widgets": [
            "64911d80b41045b39af475374a9ed3af",
            "04bfc725855f482195c18ee4d824075e",
            "0fad679b50d941e694e98fb40d852760",
            "0fd02a48ed4346da885be9c248418e82",
            "80605dd1abbd40b79098adb18772fe4a",
            "5818caceb7b148c7b996b406ca259c7d",
            "263f449c291c4331838fe1261884d528",
            "13171bc8e9b54a679b7280ace9cf7a8a",
            "866c63e5a46344e9ae55f73483af77dd",
            "0e9e816ef6a34306a2eb0c4488ac41e0",
            "c191d4b7ab2a478e9584ecbfde242c70"
          ]
        },
        "id": "_mIpePTMFyRY",
        "outputId": "89bf8cfe-7ee0-46c2-8644-27e62c97c5bb"
      },
      "outputs": [
        {
          "output_type": "stream",
          "name": "stderr",
          "text": [
            "/usr/local/lib/python3.10/dist-packages/huggingface_hub/utils/_token.py:89: UserWarning: \n",
            "The secret `HF_TOKEN` does not exist in your Colab secrets.\n",
            "To authenticate with the Hugging Face Hub, create a token in your settings tab (https://huggingface.co/settings/tokens), set it as secret in your Google Colab and restart your session.\n",
            "You will be able to reuse this secret in all of your notebooks.\n",
            "Please note that authentication is recommended but still optional to access public models or datasets.\n",
            "  warnings.warn(\n",
            "/usr/local/lib/python3.10/dist-packages/torch/nn/init.py:453: UserWarning: Initializing zero-element tensors is a no-op\n",
            "  warnings.warn(\"Initializing zero-element tensors is a no-op\")\n"
          ]
        },
        {
          "output_type": "display_data",
          "data": {
            "text/plain": [
              "Loading experts:   0%|          | 0/32 [00:00<?, ?it/s]"
            ],
            "application/vnd.jupyter.widget-view+json": {
              "version_major": 2,
              "version_minor": 0,
              "model_id": "64911d80b41045b39af475374a9ed3af"
            }
          },
          "metadata": {}
        }
      ],
      "source": [
        "model_name = \"mistralai/Mixtral-8x7B-Instruct-v0.1\"\n",
        "quantized_model_name = \"lavawolfiee/Mixtral-8x7B-Instruct-v0.1-offloading-demo\"\n",
        "\n",
        "config = AutoConfig.from_pretrained(quantized_model_name)\n",
        "state_path = snapshot_download(quantized_model_name)\n",
        "\n",
        "device = torch.device(\"cuda:0\")\n",
        "\n",
        "##### Change this to 5 if you have only 12 GB of GPU VRAM #####\n",
        "offload_per_layer = 4\n",
        "# offload_per_layer = 5\n",
        "###############################################################\n",
        "\n",
        "num_experts = config.num_local_experts\n",
        "\n",
        "offload_config = OffloadConfig(\n",
        "    main_size=config.num_hidden_layers * (num_experts - offload_per_layer),\n",
        "    offload_size=config.num_hidden_layers * offload_per_layer,\n",
        "    buffer_size=4,\n",
        "    offload_per_layer=offload_per_layer,\n",
        ")\n",
        "\n",
        "\n",
        "attn_config = BaseQuantizeConfig(\n",
        "    nbits=4,\n",
        "    group_size=64,\n",
        "    quant_zero=True,\n",
        "    quant_scale=True,\n",
        ")\n",
        "attn_config[\"scale_quant_params\"][\"group_size\"] = 256\n",
        "\n",
        "\n",
        "ffn_config = BaseQuantizeConfig(\n",
        "    nbits=2,\n",
        "    group_size=16,\n",
        "    quant_zero=True,\n",
        "    quant_scale=True,\n",
        ")\n",
        "quant_config = QuantConfig(ffn_config=ffn_config, attn_config=attn_config)\n",
        "\n",
        "\n",
        "model = build_model(\n",
        "    device=device,\n",
        "    quant_config=quant_config,\n",
        "    offload_config=offload_config,\n",
        "    state_path=state_path,\n",
        ")"
      ]
    },
    {
      "cell_type": "markdown",
      "metadata": {
        "id": "Z4hBFYtPTUzT"
      },
      "source": [
        "## Run the model"
      ]
    },
    {
      "cell_type": "code",
      "execution_count": null,
      "metadata": {
        "id": "yi3PpysUT_7Q"
      },
      "outputs": [],
      "source": [
        "# from transformers import TextStreamer\n",
        "\n",
        "\n",
        "tokenizer = AutoTokenizer.from_pretrained(model_name)\n",
        "# streamer = TextStreamer(tokenizer, skip_prompt=True, skip_special_tokens=True)"
      ]
    },
    {
      "cell_type": "code",
      "execution_count": null,
      "metadata": {
        "id": "RjDMrfAkfsXT"
      },
      "outputs": [],
      "source": [
        "data_sel = data #.iloc[:3]"
      ]
    },
    {
      "cell_type": "code",
      "execution_count": null,
      "metadata": {
        "id": "I9mcdV57udL5",
        "colab": {
          "base_uri": "https://localhost:8080/"
        },
        "outputId": "24db6b0e-c090-4a6c-e46d-f2f97eb035f0"
      },
      "outputs": [
        {
          "output_type": "stream",
          "name": "stdout",
          "text": [
            "Amount of processed files:  5182\n"
          ]
        }
      ],
      "source": [
        "data_sel = update_data(data_sel) # AGGIORNO IL DATAFRAME CON I DATI DA PROCESSARE A OGNI STEP"
      ]
    },
    {
      "cell_type": "code",
      "execution_count": null,
      "metadata": {
        "id": "gwfywG_r6Naj",
        "colab": {
          "base_uri": "https://localhost:8080/"
        },
        "outputId": "1a057105-ff48-4086-e738-bfc174815a77"
      },
      "outputs": [
        {
          "metadata": {
            "tags": null
          },
          "name": "stdout",
          "output_type": "stream",
          "text": [
            "Amount of processed files:  5182\n",
            "\n",
            "\n",
            "##################################################\n",
            "TEXT_ID: 2921\n",
            "TEXT: The Myanmar-China 2,520 km gas pipeline, with a capacity of 12 BCM per annum, became operational in October 2013. Furthermore, China started construction of the Eastern Russia-China gas pipeline for importing 5 BCM per annum from 2018 (the volume will increase to 30 BCM per annum from 2023). The length of the Chinese part of the pipeline is 3,170 km, which extends to Shanghai, and the Russian part is the 2,680 km Power of Siberia gas system connecting the Irkutsk region to Vladivostok. \n",
            "\n",
            "\n"
          ]
        },
        {
          "metadata": {
            "tags": null
          },
          "name": "stderr",
          "output_type": "stream",
          "text": [
            "Starting from v4.46, the `logits` model output will have the same type as the model (except at train time, where it will always be FP32)\n"
          ]
        },
        {
          "output_type": "stream",
          "name": "stdout",
          "text": [
            "(2659, 2921, 7, '[\"neutral\",\\n \"The Myanmar-China gas pipeline becoming operational and having a capacity of 12 BCM per annum does not inherently indicate a significant advancement in SDG-7, as it depends on how the resources are used and the impact on energy access and efficiency.\",\\n \"The China-Russia Eastern pipeline starting operation in 2018, initially importing 5 BCM per annum and increasing to 30 BCM per annum from 2023, does not directly indicate a significant advancement in SDG-7 without additional context about the energy sources and their impact on energy access, affordability, and efficiency.\",\\n \"The length of the Chinese part of the pipeline (3,170 km) and the Russian part (2,680 km) does not provide information about SDG-7 advancement, as it depends on the type of energy being transported and its impact on energy access, affordability, and efficiency.\"]</s>')\n",
            "Record aggiunto con successo: {'text_id': '2921'}\n",
            "Amount of processed files:  5208\n",
            "\n",
            "\n",
            "##################################################\n",
            "TEXT_ID: 3142\n",
            "TEXT: Includes estimates based on partial dal “Preliminary figures. Figure VI .3 shows the average percentage changes in the urban participation and employment rates in the first three quarters of the year compared to the same period of 2017. Higher growth in the employment than in the participation rate (points above the diagonal line) implies a drop in the unemployment rate, while a larger increase in the participation rate (below the diagonal) implies the opposite. \n",
            "\n",
            "\n",
            "(2798, 3142, 8, '[\"neutral\",\\n \"The input text does not provide enough information to determine a significant advancement in favor or against the goal SDG-8.\",\\n \"The text discusses the relationship between unemployment, employment, and participation rates, but it does not provide a specific figure or data to evaluate a significant change.\",\\n \"The analysis of the relationship between the participation rate and the employment rate is limited to the first three quarters of the year and the same period of 2017, without making a comparison with a longer period or providing an absolute value of the rates.\"]</s>')\n",
            "Record aggiunto con successo: {'text_id': '3142'}\n",
            "Amount of processed files:  5230\n",
            "\n",
            "\n",
            "##################################################\n",
            "TEXT_ID: 3674\n",
            "TEXT: From  the  process  of  globalization  of  law,  the  comparative constitutional law has gained a leading role for a better understanding and solving old and new constitutional national and international challenges. Therefore, some assumptions and considerations to take into account are presented for the development of the national constitutional order within the framework of the comparative constitutional law, such as universality and relativism of human rights, the concept of power and constitutional democracy, standards of free elections and judicial independence, freedom of expression, media pluralism and access to public information, the economic,social and cultural rights, the new fundamental rights. \n",
            "\n",
            "\n",
            "(4755, 3674, 16, '[\"neutral\",\\n \"The passage acknowledges the role of comparative constitutional law in addressing constitutional challenges, which is neither positive nor negative for SDG-16.\",\\n \"The passage mentions some considerations for the development of the national constitutional order in the context of comparative constitutional law, which is generally related to SDG-16 but doesn\\'t explicitly or impicitly state an advancement or setback to the goal.\",\\n \"The passage refers to various principles related to human rights, constitutional democracy, and fundamental rights, which are relevant to SDG-16 but does not indicate a significant advancement or setback to the goal.\"]</s>')\n",
            "Record aggiunto con successo: {'text_id': '3674'}\n",
            "Amount of processed files:  5257\n",
            "\n",
            "\n",
            "##################################################\n",
            "TEXT_ID: 5608\n",
            "TEXT: In the same way, according to this law, the Superintendence will be in charge of monitoring all ECEC institutions. This will thus address JUNJI’s potential conflict of interest, since JUNJI has simultaneously operated childcare centres and performed of quality assurance in the past. ( The accreditation and inspection processes generate one or multiple reports to providers (including the specific centre) and to the responsible public agencies. Reports are not provided directly to parents, but they are published on the Internet. \n",
            "\n",
            "\n",
            "(1787, 5608, 4, '\"neutral\",\\n\"The text does not provide specific information about the impact on the goal\\'s advancement, but it does mention a change in monitoring practices for ECEC institutions, which includes childcare centers and quality assurance processes.\",\\n\"The text clarifies that the accreditation and inspection reports are published online, which is transparent, but it does not specify the degree of accessibility or visibility for parents, making it neutral in terms of the goal\\'s advancement.\",\\n\"The text mentions an improvement in addressing a potential conflict of interest, but it does not provide specific details about the outcome, making it neutral in terms of the goal\\'s advancement.\"\\n]</s>')\n",
            "Record aggiunto con successo: {'text_id': '5608'}\n",
            "Amount of processed files:  5281\n",
            "\n",
            "\n",
            "##################################################\n",
            "TEXT_ID: 2915\n",
            "TEXT: Reviews of the theoretical literature on the economics of household waste management can be found in Choe and Fraser (1998) and Fullerton and Kinnaman (2002). As first best solution, a majority of the theoretical results identify deposit-refund schemes, a system with a tax or charge at production or consumer purchase and a refund to consumers that recycle and/or firms that collect or reprocess recycled materials. As an alternative first best solution (when illegal disposal such as dumping is not a problem), the results usually support the use of a virgin material tax or a tax on households' disposal choices. \n",
            "\n",
            "\n",
            "(5386, 2915, 12, '[\"neutral\",\\n \"Choe and Fraser (1998) and Fullerton and Kinnaman (2002) are reviewed for their theoretical contributions to the economics of household waste management, providing a foundation for understanding the topic but not explicitly stating a positive or negative impact on SDG-12.\",\\n \"The text identifies two potential first-best solutions for waste management: deposit-refund schemes and a virgin material tax. However, it does not make a value judgment on these solutions, so a neutral label is appropriate.\",\\n \"The description of a virgin material tax or a tax on households\\' disposal choices as an alternative first-best solution could be seen as positive or negative depending on one\\'s perspective. However, the text does not explicitly state a position, so \\'neutral\\' is the appropriate label.\"]</s>')\n",
            "Record aggiunto con successo: {'text_id': '2915'}\n",
            "Amount of processed files:  5312\n",
            "\n",
            "\n",
            "##################################################\n",
            "TEXT_ID: 5955\n",
            "TEXT: It guided and gave coherence to the reconstruction of severely affected localities. Projects are financed through various sectoral sources (primarily from the MINVU and MOP) and the FNDR. There were 138 strategic urban plans carried out: 111 urban renewal plans (Planes de Regeneracion Urbana, PRU) of small- and medium-sized cities, and Sustainable Reconstruction Plans (Planes de Reconstruccion Sustentable, PRES) in major urban centres. \n",
            "\n",
            "\n",
            "(3450, 5955, 11, '[\"neutral\",\\n \"The reconstruction of localities is not inherently positive or negative for sustainable cities and communities (SDG-11) as it depends on the specific implementation.\",\\n \"Various sectoral sources and funding are not intrinsically positive or negative for SDG-11.\",\\n \"138 strategic urban plans could have a positive impact, but the text does not provide explicit information about the outcome.\",\\n \"PRU in small- and medium-sized cities and PRES in major urban centers could be positive, but the text does not provide explicit information about the outcome.\"]</s>')\n",
            "Record aggiunto con successo: {'text_id': '5955'}\n",
            "Amount of processed files:  5337\n",
            "\n",
            "\n",
            "##################################################\n",
            "TEXT_ID: 4744\n",
            "TEXT: Abstract   This article analyzes the effect of corruption on the use of nonmonetary sanctions such as imprisonment. It is a well-known result in the law enforcement literature that in the absence of corruption, social welfare maximization requires that nonmonetary sanctions should be imposed infrequently. We show that, in the presence of corruption, it is optimal to use (or at least threaten to use) nonmonetary sanctions more often. In addition, optimal nonmonetary penalties will usually be higher in a corrupt environment. Corruption transforms the socially costly nonmonetary sanction into a monetary bribe. Although corruption thus reduces deterrence, nonmonetary sanctions are still useful, because they allow officials to extract higher bribes, thus restoring some deterrence. \n",
            "\n",
            "\n",
            "(5560, 4744, 16, '[\"neutral\",\\n \"The article discusses the relationship between corruption and the use of nonmonetary sanctions, which relates to SDG 16 (Peace, Justice and Strong Institutions) as it addresses issues of justice and law enforcement.\",\\n \"There is no explicit or implied indication of a significant advancement in favor of the goal, as the article focuses on the theoretical relationship between corruption and the use of nonmonetary sanctions.\",\\n \"There is no explicit or implied indication of a significant advancement against the goal, as the article does not focus on the negative aspects of corruption or law enforcement, but rather on the relationship between the two.\"]</s>')\n",
            "Record aggiunto con successo: {'text_id': '4744'}\n",
            "Amount of processed files:  5363\n",
            "\n",
            "\n",
            "##################################################\n",
            "TEXT_ID: 634\n",
            "TEXT: The fact that TCP/IP was an open standard is often cited as having had a beneficial role in stimulating diffusion. The early stage of Internet diffusion coincided with the opening of telecommunication markets to competition, this stimulated adoption by a number of new market entrants seeking a low-cost platform to compete against entrenched incumbent telecommunication operators. The concentration of knowledge (Silicon Valley) linking university research with firm development activities as well as an active venture capital market undoubtedly also played a large part in stimulating inter-industry spillovers in the development and use of ICT applications. \n",
            "\n",
            "\n",
            "(5243, 634, 9, '[\"neutral\",\\n \"The fact that TCP/IP was an open standard is not clearly a positive or negative factor in relation to SDG-9, as it has both positive and negative potential impacts; \\'stimulating diffusion\\' implies more access to knowledge and technology, but it may also raise concerns about security and intellectual property.\",\\n \"The opening of telecommunication markets to competition can be both beneficial and detrimental to SDG-9, as it can increase access to new technologies and innovations, but it can also lead to increased market concentration and the exclusion of smaller players; \\'new market entrants\\' and \\'low-cost platform\\' imply positive outcomes for SDG-9, but \\'compete against entrenched incumbent telecommunication operators\\' implies potential negative outcomes.\",\\n \"The concentration of knowledge in \\'Silicon Valley\\' can be a positive or negative factor for SDG-9; \\'linking university research with firm development activities\\' implies positive outcomes from knowledge sharing, but it can also lead to market concentration and the exclusion of smaller players.\",\\n \"An active venture capital market can be a positive factor for SDG-9, as it can lead to increased investment in innovation and technology, but it can also lead to market concentration and the exclusion of smaller players; \\'stimulating inter-industry spillovers in the development and use of ICT applications\\' implies positive outcomes for SDG-9.\"]</s>')\n",
            "Record aggiunto con successo: {'text_id': '634'}\n",
            "Amount of processed files:  5419\n",
            "\n",
            "\n",
            "##################################################\n",
            "TEXT_ID: 5294\n",
            "TEXT: Accordingly, the creation of the GFCM Forum on Fisheries Science, the conducting of regional surveys-at-sea and the compilation of catalogues of fishing activities aim at enhancing the quantity and quality of data used for advice. The revision of existing management plans or the development of new ones is also considered necessary for main commercial fisheries as well as the fisheries that rely on or show a strong interaction with resources in need of urgent action. It also recognizes that collecting socio-economic data that are as complete, timely and accurate as possible helps develop coherent policies to ensure resource and market access for small-scale fishers. \n",
            "\n",
            "\n",
            "(4291, 5294, 14, '\"neutral\",\\n  \"The text discusses the creation of a forum, surveys, and catalogues for enhancing fisheries data without clear indication of a significant advancement in favor or against SDG-14.\",\\n  \"The text mentions the revision of existing management plans and the development of new ones for main commercial and interacting fisheries, without implying a significant advancement in favor or against SDG-14.\",\\n  \"The text acknowledges the importance of collecting socio-economic data for small-scale fishers, but does not provide explicit evidence of a significant advancement in favor or against SDG-14.\"</s>')\n",
            "Record aggiunto con successo: {'text_id': '5294'}\n",
            "Amount of processed files:  5445\n",
            "\n",
            "\n",
            "##################################################\n",
            "TEXT_ID: 6785\n",
            "TEXT: Commonwealth policing, since its turbulent emergence in Australia in 1917, has shown both a keen capacity to suppress dissent and a remarkable ability to reinvent itself in a variety of forms. Its present nomenclature of the Australian Federal Police (AFP) arose from an alleged terrorist incident: the 1978 Sydney Hilton bombing. This article argues that the fragmented AFP faced an ill‐defined and uncertain future in the early 1990s. Since September 11, the revamped AFP, however, has claimed primacy as Australia's leading law enforcement agency, but remains susceptible to government pressure. Contemporary Australian debate has focused on intelligence agency legislation, but limited analysis has addressed the AFP's changing role, expanded powers and significantly increased budgetary resources. As terrorism, national security and people smuggling have become the new “law and order'’ federal agenda, the AFP, straining to accomplish both domestic and regional functions, has extended its transnational, off‐shor... \n",
            "\n",
            "\n",
            "(4604, 6785, 16, '\"neutral\",\\n  \"The text does not explicitly state a significant advancement in favor or against the goal of SDG-16, which is \\'Promote peaceful and inclusive societies for sustainable development, provide access to justice for all and build effective, accountable and inclusive institutions at all levels\\'.\",\\n  \"The text discusses the evolution and changes in the Australian Federal Police, but it does not provide a clear evaluation of the impact of these changes on the advancement of the SDG goal.\",\\n  \"The text mentions the expansion of the AFP\\'s powers and budgetary resources, as well as its role in addressing terrorism, national security, and people smuggling. However, these mentions are descriptive and do not provide an evaluation of the impact of these changes on the advancement of the SDG goal.\"</s>')\n",
            "Record aggiunto con successo: {'text_id': '6785'}\n",
            "Amount of processed files:  5479\n",
            "\n",
            "\n",
            "##################################################\n",
            "TEXT_ID: 1154\n",
            "TEXT: Governments play an important role in ensuring that the transition to low-carbon economies is equitable, sustainable and legitimate. The persistence of neoliberal thinking and policies, for example, tends to constrain important aspects of public spending and market regulation. These types of policy approaches are not conducive to bringing about a qualitative or transformative change toward more inclusive processes and equitable outcomes. \n",
            "\n",
            "\n",
            "(3939, 1154, 13, '[\"neutral\",\\n \"Governments\\' role in low-carbon transitions is noted, but there is no implication of significant advancement or regression in relation to SDG-13.\",\\n \"The statement about neoliberal thinking and policies discusses barriers to achieving SDG-13 but does not necessarily imply significant advancement or regression.\",\\n \"The use of \\'not conducive\\' implies a challenge for SDG-13, but it does not explicitly state that what is affirmed or described leads to a significant advancement against the goal.\"]\\n\\n```</s>')\n",
            "Record aggiunto con successo: {'text_id': '1154'}\n",
            "Amount of processed files:  5500\n",
            "\n",
            "\n",
            "##################################################\n",
            "TEXT_ID: 5417\n",
            "TEXT: The RPC issued two decisions relating to the code of practice for users in nuclear medicine and to dosimetry levels for medical exposure. However, further efforts are still required to transpose and implement the Euratom acquis. Albania's conditioned waste store has not yet been properly licensed according to international standards, and its placement close to populated areas is a concern. The last body of about 3 tons of DDT and HCH/lindane was removed from Albania in July 2006. \n",
            "\n",
            "\n",
            "(3846, 5417, 12, '\"neutral\",\\n   \"The RPC issued two decisions relating to the code of practice for users in nuclear medicine and to dosimetry levels for medical exposure.\" does not imply a significant advancement in favor or against sustainable resource management.\\n\\n   \"Albania\\'s conditioned waste store has not yet been properly licensed according to international standards, and its placement close to populated areas is a concern.\" does not imply a significant advancement in favor or against sustainable resource management.\\n\\n   \"The last body of about 3 tons of DDT and HCH/lindane was removed from Albania in July 2006.\" does not imply a significant advancement in favor or against sustainable resource management.\\n\\n   The input text talks about the implementation of regulations and waste removal, but it does not imply any significant advancement in sustainable resource management.</s>')\n",
            "Record aggiunto con successo: {'text_id': '5417'}\n",
            "Amount of processed files:  5529\n",
            "\n",
            "\n",
            "##################################################\n",
            "TEXT_ID: 4031\n",
            "TEXT: Poverty reduction was featured as the first and pre-eminent goal. At the end of the 1990s, the World Bank and the International Monetary Fund had incorporated a linkage between market-oriented structural adjustment policies and the poverty agenda within the revised framework for the heavily indebted poor countries (HIPCs), making the formulation of Poverty Reduction Strategy Papers (PRSPs) a precondition for the receipt of debt relief under the heavily indebted poor countries Initiative. However, the Goals, per se, do not encompass any particular strategy for achieving those objectives. \n",
            "\n",
            "\n",
            "(1001, 4031, 1, '\"neutral\",\\n  \"The text does not provide information about the success or failure of poverty reduction efforts.\",\\n  \"no significant positive or negative advancement is implied or stated.\",\\n  \"The text does not include explicit statements about poverty reduction strategies.\"</s>')\n",
            "Record aggiunto con successo: {'text_id': '4031'}\n",
            "Amount of processed files:  5542\n",
            "\n",
            "\n",
            "##################################################\n",
            "TEXT_ID: 2349\n",
            "TEXT: A case study documents the amount of product waste in retail before and after a change of packaging gas that prolonged the actual product durability, thus allowing for longer shelf life. The chapter also includes results from the literature of similar studies. The extended durability was used to prolong the shelf life provided on the labelling of the products. A large retailer in Norway registered data for food wastage before and after the change in durability stated on the product package. \n",
            "\n",
            "\n",
            "(3802, 2349, 12, '\"neutral\",\\n  \"The text describes a case study about product waste in retail and the impact of a change in packaging gas on product durability and shelf life.\",\\n  \"The text mentions the use of a large retailer in Norway and the registration of food wastage data before and after a change in durability on the product package, but it does not provide specific information about the impact on the goal SDG-12.\",\\n  \"The text does not explicitly state whether the change in packaging gas led to a significant advancement in favor or against the goal SDG-12.\"</s>')\n",
            "Record aggiunto con successo: {'text_id': '2349'}\n",
            "Amount of processed files:  5568\n",
            "\n",
            "\n",
            "##################################################\n",
            "TEXT_ID: 3261\n",
            "TEXT: The REDD agenda was first introduced in the UNFCCC COP-11 in 2005. The COP-13 adopted the Bali Action Plan which includes possible financial incentives for forest-based climate change mitigation actions in developing countries and a decision (Decision 2/CP. The decision broadens the concept of REDD by including conservation, sustainable forest management, and enhancement of carbon stocks, which is collectively referred to as REDD+. \n",
            "\n",
            "\n",
            "(6306, 3261, 15, '[\"neutral\",\\n \"The REDD agenda was first introduced in the UNFCCC COP-11 in 2005, which is a simple statement about the history of REDD.\",\\n \"The Bali Action Plan includes possible financial incentives for forest-based climate change mitigation actions in developing countries, which is a neutral statement about the potential impact of the plan.\",\\n \"A decision was adopted that broadens the concept of REDD by including conservation, sustainable forest management, and enhancement of carbon stocks, which is a neutral statement about the expansion of REDD\\'s scope.\",\\n \"REDD+ is a more comprehensive approach that includes actions that go beyond reducing emissions from deforestation.\",\\n \"However, the text does not provide enough information to determine the actual impact or advancement of the REDD agenda towards SDG-15.\"\\n]</s>')\n",
            "Record aggiunto con successo: {'text_id': '3261'}\n",
            "Amount of processed files:  5604\n",
            "\n",
            "\n",
            "##################################################\n",
            "TEXT_ID: 489\n",
            "TEXT: In Sweden, among native students of mixed heritage, non-native speakers were 17 percentage points less likely to be academically resilient compared to native-speakers. The difference was at least 20 percentage points in the European peer-learner countries. In Canada, nativespeaking and non-native speaking students with different immigrant backgrounds were equally likely to attain baseline academic proficiency. \n",
            "\n",
            "\n",
            "(5000, 489, 4, '[\"neutral\",\\n \"In Sweden, there is a 17 percentage point gap in academic resilience between native and non-native speakers among students of mixed heritage, which is a hindrance to SDG-4\",\\n \"The academic resilience gap is at least 20 percentage points higher in European peer-learner countries, further limiting SDG-4 progress\",\\n \"However, in Canada, academic proficiency is equally attained by native-speaking and non-native speaking students with diverse immigrant backgrounds, providing a positive contribution to SDG-4 in some aspects.\"\\n]</s>')\n",
            "Record aggiunto con successo: {'text_id': '489'}\n",
            "Amount of processed files:  5630\n",
            "\n",
            "\n",
            "##################################################\n",
            "TEXT_ID: 5661\n",
            "TEXT: This is in contrast to countries such as Germany, where returning foreign-born students and native students of mixed heritage were respectively 16 and 12 percentage points less likely than native students to do so. First-generation immigrant students are foreign-born students of two foreign-born parents. Second-generation immigrant students are Swedish-bom students of two foreign-bom parents. \n",
            "\n",
            "\n",
            "(1743, 5661, 4, '[\"neutral\",\\n \"The text provides a comparison between the performance of different groups of students in Germany and Sweden, but it does not imply a significant advancement or setback for SDG-4 (Quality Education) overall.\",\\n \"The comparison between the performance of returning foreign-born students and native students is not stated as a positive or negative outcome for SDG-4.\",\\n \"The distinction between first- and second-generation immigrant students does not have a clear positive or negative impact on SDG-4 as it only defines the categories of the students, but it does not describe their academic performance or progress towards the goal.\"\\n ]</s>')\n",
            "Record aggiunto con successo: {'text_id': '5661'}\n",
            "Amount of processed files:  5653\n",
            "\n",
            "\n",
            "##################################################\n",
            "TEXT_ID: 5063\n",
            "TEXT: Kosovo scores the lowest, 2.5, mainly because it currently has no functioning central employment agency. While the agency should start functioning soon, its role is currently carried out by the Ministry of Labour and Social Welfare and local employment offices, which operate within their own legally defined mandates. Although PESs drive activation policies in all the economies, for those policies to succeed it is crucial that other actors are also involved. \n",
            "\n",
            "\n",
            "(2858, 5063, 8, '[\"neutral\",\\n \"The role of a central employment agency is mentioned as a factor in Kosovo\\'s score, but no explicit positive or negative impact is indicated. (SDG-8)\",\\n \"No specific positive or negative outcomes are explicitly associated with the absence of a functioning central employment agency. (SDG-8)\",\\n \"The current system of handling employment policies by the Ministry of Labour and local employment offices is not evaluated as positive or negative in the text. (SDG-8)\"]</s>')\n",
            "Record aggiunto con successo: {'text_id': '5063'}\n",
            "Amount of processed files:  5677\n",
            "\n",
            "\n",
            "##################################################\n",
            "TEXT_ID: 4806\n",
            "TEXT: When transferring responsibilities to local governments, Kazakhstan may wish to ensure that the functions are relevant to the communities. Action by city governments is particularly valuable where policies need to be tailored to local circumstances and responsive to local constituencies. Central and oblast levels of government are best positioned to act where economies of scale are possible, where cross-jurisdictional co-ordination is necessary, and where standardised approaches are needed to avoid free-riding. \n",
            "\n",
            "\n",
            "(3397, 4806, 11, '\"neutral\",\\n \"The transfer of responsibilities to local governments is a neutral action in terms of impact on SDG-11.\",\\n \"The suggestion for relevance to communities and responsiveness to local constituencies is a general principle and does not necessarily lead to a significant advancement in SDG-11.\",\\n \"The mention of economies of scale, cross-jurisdictional coordination, and standardized approaches are not significant enough actions to impact SDG-11.\"</s>')\n",
            "Record aggiunto con successo: {'text_id': '4806'}\n",
            "Amount of processed files:  5699\n",
            "\n",
            "\n",
            "##################################################\n",
            "TEXT_ID: 4931\n",
            "TEXT: The indicator might be difficult to interpret in countries in which the reduced access to sick leave entitlements is compensated through a higher hourly pay. However, the following variables may be used: • Target population: WSTATOR = 1 or 2 • Disaggregation: NACE3D, ISC04D, FTPT, TEMP, STAPRO The variables HWUSUAL, YSTARTWK and MSTARTWK may also be useful for identifying the entitled workers. Nevertheless, some workers may not be entitled to paid sick leave, such as temporary workers, part-time workers or workers in special statuses. \n",
            "\n",
            "\n",
            "(2788, 4931, 8, '[\"neutral\",\\n \"The use of \\'might be\\' indicates that the indicator may not be straightforward to interpret in certain countries, which is a neutral observation and does not imply a significant advancement for or against SDG-8.\",\\n \"The identification of target populations and disaggregation variables is a necessary step in monitoring progress towards SDG-8, but it is not sufficient to imply a significant advancement in favor of the goal.\",\\n \"The mention of workers who may not be entitled to paid sick leave (temporary, part-time, or special status) does not necessarily imply a significant advancement for or against SDG-8, as this could be the case in countries with different labor laws and regulations.\",\\n \"The text does not imply or explicitly state that what is affirmed or described leads to a significant advancement either in favor or against the goal indicated by the SDG under which it was previously classified.\"]</s>')\n",
            "Record aggiunto con successo: {'text_id': '4931'}\n",
            "Amount of processed files:  5733\n",
            "\n",
            "\n",
            "##################################################\n",
            "TEXT_ID: 6732\n",
            "TEXT: These companies have built up considerable technological and engineering capabilities, which they could apply, at least in part, to the wind energy sector. Particularly for these companies, engaging the services of established design firms has been a logical step in their corporate strategy. At the same time, however, they have started embracing a new strategy, in line with a new trend in thee global wind industry. \n",
            "\n",
            "\n",
            "(512, 6732, 7, '[\"neutral\",\\n \"Companies applying their technological and engineering capabilities to wind energy sector implies a potential positive contribution to SDG-7, but no explicit statement is made in the text about the scale or impact of this contribution.\",\\n \"Hiring design firms is not mentioned as a negative practice, but the text also does not suggest that this action is a significant positive contribution to SDG-7.\",\\n \"The new strategy aligned with the global wind industry trend does not contain any explicit information about the impact on SDG-7, making it difficult to assess whether it is positive, negative, or neutral.\"]</s>')\n",
            "Record aggiunto con successo: {'text_id': '6732'}\n",
            "Amount of processed files:  5760\n",
            "\n",
            "\n",
            "##################################################\n",
            "TEXT_ID: 2281\n",
            "TEXT: The removal of subsidies resulted in public financial gains, as the government was able to save the equivalent of 2.5% of GDP (OECD, 2010). While the purpose of fossil fuel subsidy reform was not environmental protection, it did create a boost in clean energy generation by removing price distortions for conventional and clean fuels. The subsidy reform was also hailed for its compensatory measures that helped cushion consumers from rising living costs (OECD, 2010). \n",
            "\n",
            "\n",
            "(2576, 2281, 7, '[\"positive\",\\n  \"The removal of subsidies resulted in public financial gains, as the government was able to save the equivalent of 2.5% of GDP\",\\n  \"it did create a boost in clean energy generation by removing price distortions for conventional and clean fuels\",\\n  \"subsidy reform was also hailed for its compensatory measures that helped cushion consumers from rising living costs\"]</s>')\n",
            "Record aggiunto con successo: {'text_id': '2281'}\n",
            "Amount of processed files:  5779\n",
            "\n",
            "\n",
            "##################################################\n",
            "TEXT_ID: 1444\n",
            "TEXT: Critical aspects in terms of duration and conditions of employment, reliance of the sector on foreign labour, impact on local workers’ wages, social rights, and benefits’ portability remain largely under-researched. While the South African Domestic and Services Allied Workers Union (SADSAWU) has adopted a national strategy, protection remains limited in practice in a sector characterised by high levels of decent work deficits for all workers, and in particular immigrant workers. The remaining columns represent the differences between the native-born and foreign-bom sectoral employment shares. \n",
            "\n",
            "\n",
            "(6006, 1444, 8, '[\"neutral\",\\n \"The text does not provide a clear positive or negative impact on the SDG\",\\n \"The discussion of under-researched aspects and protection limitations does not necessarily indicate a negative impact on the SDG\",\\n \"The mention of a national strategy by SADSAWU is not enough to consider this as a positive impact on the SDG without further context about its implementation and results.\"\\n]</s>')\n",
            "Record aggiunto con successo: {'text_id': '1444'}\n",
            "Amount of processed files:  5794\n",
            "\n",
            "\n",
            "##################################################\n",
            "TEXT_ID: 5329\n",
            "TEXT: In particular, the obligation to publish by December 2009 River Basin Management Plans has been a strong driver for water management in EU member States. Eastern neighbours are also interested in the application of the provisions of the WFD. Belarus has schemes for the complex use and protection of waters, and is interested in seeing how these compare with EU River Basin Management Plans. Due to lack of resources and capacity in the eastern neighbours, the preparation of River Basin Management Plans has been mostly supported by external donors, but the implementation of the developed plans in some cases advances very slowly. \n",
            "\n",
            "\n",
            "(5099, 5329, 6, '\"neutral\",\\n  \"The text does not provide information about the success or failure of water management efforts in EU member states.\",\\n  \"It is also unclear whether the interest from Belarus in EU River Basin Management Plans implies a positive or negative impact on SDG-6.\",\\n  \"The text does provide information about external donors supporting the preparation of River Basin Management Plans in the eastern neighbors, but it is not clear whether this support is successful in implementing the plans or not.\"</s>')\n",
            "Record aggiunto con successo: {'text_id': '5329'}\n",
            "Amount of processed files:  5812\n",
            "\n",
            "\n",
            "##################################################\n",
            "TEXT_ID: 5466\n",
            "TEXT: Theyprovideguarantees with regards to investments, supply of agricultural inputs (seeds and fertilizers) and credits, and are a suitable platform for education and training. Cooperatives also provide opportunities for marketing agricultural products, particularly in the case of smallholders who, in most cases, are not able to meet quantitative and qualitative thresholds and therefore rely on communal storage and marketing instruments. In Brazil, cooperatives have been instrumental in linking small-holder farmers into the agrifood chain. \n",
            "\n",
            "\n",
            "(1443, 5466, 2, '[\"positive\",\\n  \"Providing guarantees for investments, supply of agricultural inputs, and credits helps in the advancement of SDG-2 as it promotes sustainable agriculture.\",\\n  \"Education and training opportunities offered by cooperatives contributes to the achievement of SDG-2 by enhancing the knowledge and skills of farmers.\",\\n  \"Marketing agricultural products and linking small-holder farmers into the agrifood chain improves their access to markets and thus advances SDG-2.\"]}</s>')\n",
            "Record aggiunto con successo: {'text_id': '5466'}\n",
            "Amount of processed files:  5831\n",
            "\n",
            "\n",
            "##################################################\n",
            "TEXT_ID: 3433\n",
            "TEXT: In light of a recent shift in dialogue to hard law standards in the domain of business and human rights, this article provides an in-depth examination of the viability of a business and human rights treaty. It seeks to advance a valid theoretical model for a treaty that directly addresses non-State actors, explores the allocation of responsibility among multiple duty-bearers, and contemplates the scope, content, and enforcement of the potential obligations. By supplementing this analysis with analogies drawn from existing treaty regimes, the article aims to contribute positively to the normative development of international law in the field. \n",
            "\n",
            "\n",
            "(964, 3433, 16, '\"neutral\",\\n  \"The text does not provide any explicit statement about the advancement or regression of SDG-16.\",\\n\\n  \"positive\",\\n  \"The text discusses the development of a business and human rights treaty, which is an advancement in the field of international law and can contribute positively to the normative development in this area.\",\\n\\n  \"neutral\",\\n  \"The article does not explicitly state or imply that the theoretical model for a treaty will be ratified or implemented, therefore the impact on the actual implementation of the treaty remains to be seen.\"</s>')\n",
            "Record aggiunto con successo: {'text_id': '3433'}\n",
            "Amount of processed files:  5854\n",
            "\n",
            "\n",
            "##################################################\n",
            "TEXT_ID: 552\n",
            "TEXT: The building was designed to provide an environment adapted to teenage girls and their ways of learning and interaction. The school was designed by Michael Banney, who used a student-centred approach to develop a sustainable design (Bell, 2007). There are however many competing and contradictory discourses on how children struggle to define and redefine themselves as gendered beings. \n",
            "\n",
            "\n",
            "(214, 552, 5, '[\"neutral\",\\n \"The building\\'s design focuses on teenage girls\\' learning and interaction, which doesn\\'t inherently indicate a significant advancement or setback for SDG-5.\",\\n \"The designer\\'s student-centred approach to sustainability is a positive aspect, but not directly related to SDG-5.\",\\n \"The text acknowledges \\'competing and contradictory discourses\\' concerning gender identity, which doesn\\'t suggest a significant advancement for SDG-5.\"]</s>')\n",
            "Record aggiunto con successo: {'text_id': '552'}\n",
            "Amount of processed files:  5869\n",
            "\n",
            "\n",
            "##################################################\n",
            "TEXT_ID: 5849\n",
            "TEXT: In Bulgaria and Romania for example, respectively 1.6 and 2.2 per cent of children lack all 14 items, in Iceland 4.3 per cent lack just one item while the Scandinavian countries do not exceed four, and so on. All values of one per cent or less are omitted in the table. This may reflect a technical measurement problem (we have no items that allow to identify the deprived children in richer countries) or the fact that there simply are few deprived children in richer countries. \n",
            "\n",
            "\n",
            "(1138, 5849, 1, '\"neutral\",\\n  \"The text does not provide a clear indication of the advancement or regression of SDG-1 as it discusses statistics on child poverty across various European countries.\",\\n  \"The text acknowledges the possibility of a measurement issue or the fact that there are few deprived children in richer countries, which does not provide any clear indication of the impact on SDG-1.\",\\n  \"The text does not explicitly state or imply a significant advancement in favor or against the goal of SDG-1.\"</s>')\n",
            "Record aggiunto con successo: {'text_id': '5849'}\n",
            "Amount of processed files:  5885\n",
            "\n",
            "\n",
            "##################################################\n",
            "TEXT_ID: 873\n",
            "TEXT: On the other hand, the large-scale penetration of distributed and intermittent renewable generation might present a challenge to nuclear. Widespread commercialisation of small-scale nuclear technology might be able to take on this challenge successfully. Stirling observes that the HHI does not properly reflect the diversity property balance as it gives a higher weight to producers with high market shares (Stirling, 1998). \n",
            "\n",
            "\n",
            "(2586, 873, 7, '[\"neutral\",\\n \"Distributed and intermittent renewable generation might present a challenge to nuclear: this does not necessarily imply a significant advancement in favor or against SDG-7 as it can be interpreted as both a positive and negative impact on sustainable energy goals\",\\n \"Widespread commercialisation of small-scale nuclear technology might be able to take on this challenge successfully: this can be interpreted as a potential advancement in favor of SDG-7, but it is not explicitly stated or implied in the text\",\\n \"Stirling observes that the HHI does not properly reflect the diversity property balance as it gives a higher weight to producers with high market shares: this is an observation about a property of HHI and does not necessarily imply a significant advancement in favor or against SDG-7\"]</s>')\n",
            "Record aggiunto con successo: {'text_id': '873'}\n",
            "Amount of processed files:  5911\n",
            "\n",
            "\n",
            "##################################################\n",
            "TEXT_ID: 181\n",
            "TEXT: The environmental consequences and costs of material resource use are not yet fully understood, nor are the economic opportunities provided by improved resource productivity. More in-depth analysis is needed of specific resources and materials (trade-related material flows, flows of secondary raw materials and waste, etc.) Most of the growth in both income and population will be in the rapidly industrialising economies of Brazil, Russia, India, Indonesia, China and South Africa (the BRIICS) and in developing countries. \n",
            "\n",
            "\n",
            "(3708, 181, 12, '[\"neutral\",\\n \"The text mentions that the environmental consequences and costs of material resource use are not fully understood, which is an insufficient justification to classify it as positive or negative.\",\\n \"The text mentions the economic opportunities provided by improved resource productivity, but it is not clear whether this leads to a significant advancement in favor or against the goal.\",\\n \"The text also mentions that most of the growth in both income and population will be in the BRIICS and in developing countries, which does not provide information about the impact on SDG-12.\"\\n ]</s>')\n",
            "Record aggiunto con successo: {'text_id': '181'}\n",
            "Amount of processed files:  5931\n",
            "\n",
            "\n",
            "##################################################\n",
            "TEXT_ID: 2850\n",
            "TEXT: The volume of fisheries production in the Pacific region7 is around 1.7 million tonnes, with an estimated value of US$3.6 billion dollars, 75 per cent of which is accounted for by Commonwealth Pacific small states (Table 5.1). The larger proportion is accounted for by offshore tuna fisheries, mainly by foreign-based vessels,8 particularly in Kiribati and PNG. However, the importance of coastal fisheries should not be underestimated. \n",
            "\n",
            "\n",
            "(4119, 2850, 14, '\"neutral\",\\n   \"The volume of fisheries production in the Pacific region is stated to be around 1.7 million tonnes, with an associated value of US$3.6 billion.\",\\n   \"The text highlights the significant contribution of offshore tuna fisheries to the total catch, particularly in Kiribati and PNG.\",\\n   \"The importance of coastal fisheries is acknowledged, implying their value in the region.\"</s>')\n",
            "Record aggiunto con successo: {'text_id': '2850'}\n",
            "Amount of processed files:  5949\n",
            "\n",
            "\n",
            "##################################################\n",
            "TEXT_ID: 6776\n",
            "TEXT: This system provides weak stimulus to continuous quality improvements in the provision of care, since most professionals are paid solely through fixed salaries (with no link to performance assessment), and in many instances contracts are temporary and do not include social security benefits. Evidence from other national settings have concluded that movements away from salary mechanisms for health professionals are a successful strategy to raise allocative efficiency, for example through the strengthening of the primary care system, by improving user experience (when remuneration is at least partly tied to performance) as well as prevention of more expensive care, including avoidable hospitalisations (Moreno-Serra, 2014). Providers tend to be largely concentrated in densely populated areas, with a notable increase in the number of private providers in those localities in the last ten years. \n",
            "\n",
            "\n",
            "(1618, 6776, 3, '\"negative\",\\n   \"The system provides weak stimulus to continuous quality improvements in the provision of care.\",\\n   \"The use of fixed salaries for health professionals does not incentivize performance assessment.\",\\n   \"The lack of social security benefits in temporary contracts can negatively impact the provision of care.\",\\n   \"Concentration of providers in densely populated areas can lead to unequal access to care.\",\\n   \"Increase in the number of private providers in localities can impact the quality and affordability of care.\"</s>')\n",
            "Record aggiunto con successo: {'text_id': '6776'}\n",
            "Amount of processed files:  5970\n",
            "\n",
            "\n",
            "##################################################\n",
            "TEXT_ID: 722\n",
            "TEXT: The so-called segment A consists of hospital services for which regulated prices are derived from a global hospital budget. The segment B consists of hospital services where prices are freely negotiated with health insurers, and typically comprise less complex services (e.g. knee and hip replacements). The share of segment B has increased from less than 10% in 2005 to more than 30% in 2011 and 70% following the 2012 reform (described below). At the same time, real prices in the segment B have declined, reflecting the increased bargaining power of health insurers (Table 7). \n",
            "\n",
            "\n",
            "(1533, 722, 3, '[\"neutral\",\\n \"The share of segment B, which consists of hospital services with freely negotiated prices, has increased from less than 10% in 2005 to over 30% in 2011 and 70% following the 2012 reform, indicating a growing trend in this segment.\",\\n \"Although the share of segment B has increased, real prices in this segment have declined, reflecting the increased bargaining power of health insurers, suggesting that the affordability and accessibility of these services may have improved.\",\\n \"However, the text does not provide explicit information about the impact of these changes on the overall health outcomes or goals, making it difficult to determine the exact influence on SDG-3.\"]</s>')\n",
            "Record aggiunto con successo: {'text_id': '722'}\n",
            "Amount of processed files:  5993\n",
            "\n",
            "\n",
            "##################################################\n",
            "TEXT_ID: 4662\n",
            "TEXT: For example, in Poland, more than 60% of middle managers are women (women’s share in top management positions in the public service exceeds 47%7). In Canada, the representation of women at the middle management levels (EX minus 1 and EX minus 28) is gradually increasing, with women constituting 38.2% at the EX minus 1 and 47.2% at the EX minus 2 levels in 2011 (Treasury Board of Canada Secretariat, 2011). In Australia, where seven out of ten federal and state parliamentarians are men (and this has not changed in the last ten years), the situation in the public service is improving: the proportion of women in senior- and middle-manager roles has grown from 35% in 2002 to 46% in 2012 (Australian Bureau of Statistics, January 2013). \n",
            "\n",
            "\n"
          ]
        }
      ],
      "source": [
        "results = []\n",
        "\n",
        "while 1:\n",
        "\n",
        "  data_sel = update_data(data_sel) # AGGIORNO IL DATAFRAME CON I DATI DA PROCESSARE A OGNI STEP\n",
        "\n",
        "  if data_sel.shape[0]==0:\n",
        "    break\n",
        "\n",
        "\n",
        "  for index, row in data_sel.iterrows():\n",
        "\n",
        "    cnt = index\n",
        "\n",
        "    text_id = row['text_id']\n",
        "    text = row[\"text\"].replace('\\n','').replace('{','(').replace('}',')')\n",
        "    sdg_true = row[\"sdg_true\"]\n",
        "\n",
        "    file = open(log_filename, 'a+', encoding='utf-8')\n",
        "\n",
        "    print(\"\\n\\n##################################################\")\n",
        "    file.write(\"\\n\\n##################################################\\n\")\n",
        "\n",
        "    print(\"TEXT_ID:\", text_id)\n",
        "    print(\"TEXT:\", row[\"text\"].replace('\\n',''),'\\n\\n')\n",
        "    file.write(f\"TEXT: \" + row['text'].replace('\\n','') + \"\\n\\n\\n\")\n",
        "\n",
        "  #   template = \"\"\"[INST]\n",
        "  # <<SYS>>\n",
        "  # You are a helpful text classifier.\n",
        "  # <</SYS>>\n",
        "    template = \"\"\"Given the following input text, between triple quotes, with its associated classification label with respect to one of the Sustainable Development Goals (SDGs), further classify the text with respect to the three labels defined below:\n",
        "\n",
        "    - \"positive\": the text implies or explicitly states that what is affirmed or described leads to a significant advancement in favor of the goal indicated by the SDG under which it was previously classified.\n",
        "\n",
        "    - \"negative\": the text implies or explicitly states that what is affirmed or described leads to a significant advancement against the goal indicated by the SDG under which it was previously classified.\n",
        "\n",
        "    - \"neutral\": the text does not imply or explicitly state that what is affirmed or described leads to a significant advancement either in favor or against the goal indicated by the SDG under which it was previously classified.\n",
        "\n",
        "  Return your answer in the following \"list of strings\" format\n",
        "\n",
        "    [LABEL, LABEL_JUSTIFICATION_1, LABEL_JUSTIFICATION_2, LABEL_JUSTIFICATION_3, ...]\n",
        "\n",
        "  where the first element must be the value of the label (\"positive\", \"negative\", or \"neutral\") and the subsequent values must contain the texts related to the features that justify the provided output label.\n",
        "\n",
        "  Do NOT add any of your comments outside the list.\n",
        "\n",
        "  The input text with its label are:\n",
        "  '''\n",
        "  INPUT TEXT: \\\"\"\"\"+text+\"\"\"\\\"\n",
        "  SDG_CLASSIFICATION: \"SDG-\"\"\"+str(sdg_true)+\"\"\"\\\"\n",
        "  OUTPUT:\n",
        "  '''\n",
        "  \"\"\"\n",
        "  # [/INST]\n",
        "  # \"\"\"\n",
        "\n",
        "    # print(template)\n",
        "\n",
        "    past_key_values = None\n",
        "    sequence = None\n",
        "\n",
        "    seq_len = 0\n",
        "\n",
        "    #print(\"User: \", end=\"\")\n",
        "    #user_input = input()\n",
        "    #print(\"\\n\")\n",
        "\n",
        "    # user_entry = dict(role=\"user\", content=user_input)\n",
        "    user_entry = dict(role=\"user\", content=template)\n",
        "    input_ids = tokenizer.apply_chat_template([user_entry], return_tensors=\"pt\").to(device)\n",
        "\n",
        "    if past_key_values is None:\n",
        "      attention_mask = torch.ones_like(input_ids)\n",
        "    else:\n",
        "      seq_len = input_ids.size(1) + past_key_values[0][0][0].size(1)\n",
        "      attention_mask = torch.ones([1, seq_len - 1], dtype=torch.int, device=device)\n",
        "\n",
        "    #print(\"Mixtral: \", end=\"\")\n",
        "    outputs = model.generate(\n",
        "      input_ids=input_ids,\n",
        "      attention_mask=attention_mask,\n",
        "      past_key_values=past_key_values,\n",
        "      #streamer=streamer,\n",
        "      do_sample=True,\n",
        "      temperature=0.9,\n",
        "      top_p=0.9,\n",
        "      max_new_tokens=512,\n",
        "      pad_token_id=tokenizer.eos_token_id,\n",
        "      return_dict_in_generate=False, #True,\n",
        "      output_hidden_states=False #, #True,\n",
        "      # return_full_text = False\n",
        "    )\n",
        "    #print(\"\\n\")\n",
        "\n",
        "    #sequence = result[\"sequences\"]\n",
        "    #past_key_values = result[\"past_key_values\"]\n",
        "\n",
        "    #print(\"result: \", tokenizer.decode(outputs[0]))\n",
        "    #print(result.keys())\n",
        "    #print(result['past_key_values'])\n",
        "    #break\n",
        "    prompt_length = input_ids.shape[1]\n",
        "    result_extended = (cnt, text_id, sdg_true, tokenizer.decode(outputs[0][prompt_length:])) # AGGIUNGENDO [prompt_length:] SI ESCLUDE IL PROMPT DALL'OUTPUT!\n",
        "\n",
        "    print(result_extended)\n",
        "    file.write(str(result_extended)+'\\n')\n",
        "\n",
        "    with open(output_data_path+f'/sdg_classification_{text_id}.pkl', 'wb') as f:\n",
        "        pickle.dump(result_extended, f)\n",
        "\n",
        "    add_record(table, str(text_id)) # AGGIUNGE L'ID DEL RECORD PROCESSATO NELLA TABELLA DI DYNAMODB, IN MODO CHE GLI ALTRI WORKER NON LO RIPROCESSINO\n",
        "\n",
        "    file.close()\n",
        "\n",
        "    break # PER FORZARE L'USCITA DAL CICLO INTERNO E PERMETTERE L'AGGIORNAMENTO DEL DATAFRAME"
      ]
    },
    {
      "cell_type": "code",
      "execution_count": null,
      "metadata": {
        "id": "UztKgPv06Ng8"
      },
      "outputs": [],
      "source": []
    },
    {
      "cell_type": "code",
      "execution_count": null,
      "metadata": {
        "id": "8Zwa_b6B4Bf_"
      },
      "outputs": [],
      "source": []
    },
    {
      "cell_type": "code",
      "execution_count": null,
      "metadata": {
        "id": "0L4QkN9i4Bb-"
      },
      "outputs": [],
      "source": [
        ",STOP!!!"
      ]
    },
    {
      "cell_type": "code",
      "execution_count": null,
      "metadata": {
        "id": "JrpNhcDeOL-n"
      },
      "outputs": [],
      "source": [
        "data_sel = data #.iloc[:3]"
      ]
    },
    {
      "cell_type": "code",
      "execution_count": null,
      "metadata": {
        "id": "kTmhQ8-jpMyI"
      },
      "outputs": [],
      "source": [
        "import glob\n",
        "\n",
        "files = glob.glob(output_data_path + \"/*.pkl\")\n",
        "\n",
        "results = []\n",
        "for file in files:\n",
        "    res = pd.read_pickle(file)\n",
        "\n",
        "    # try:\n",
        "    #     if len(res[3]['choices'])>1:\n",
        "    #         raise Exception('ERROR: Multilabel detected!')\n",
        "    #         break\n",
        "    #     sdg_pred = res[3]['choices'][0]['message']['content']\n",
        "    #     res4df = (res[0], res[1], res[2], sdg_pred)\n",
        "    #     print(res4df)\n",
        "    #     tuple_list.append(res4df)\n",
        "    # except:\n",
        "    #     print(\"#################################################################\")\n",
        "    #     print(res)\n",
        "    #     print(\"#################################################################\")\n",
        "\n",
        "    # print(res)\n",
        "    results.append(res)\n",
        "    # break\n",
        "\n",
        "len(results)"
      ]
    },
    {
      "cell_type": "code",
      "execution_count": null,
      "metadata": {
        "id": "PPjLQ6fkpaAY"
      },
      "outputs": [],
      "source": [
        "results_processed = pd.DataFrame(results, columns=['cnt', 'text_id', 'sdg_true', 'result'])\n",
        "results_processed.head(3)"
      ]
    },
    {
      "cell_type": "code",
      "execution_count": null,
      "metadata": {
        "id": "HOE11bsFqhpS"
      },
      "outputs": [],
      "source": [
        "#results_processed.iloc[0].result.split(\"Answer with label only usign the format:---LABEL---\")[1]\n",
        "results_processed['result_short'] = results_processed['result'].apply(lambda x: x.split(\"Answer with label only usign the format:---LABEL---\")[1])"
      ]
    },
    {
      "cell_type": "code",
      "execution_count": null,
      "metadata": {
        "id": "hHOqH12_pdX_"
      },
      "outputs": [],
      "source": [
        "#results_processed['label'] = results_processed['result'].str.extract(r'SDG (\\d+)')\n",
        "results_processed['label'] = results_processed['result_short'].str.extract(r'SDG (\\d+)')\n",
        "results_processed.head(3)"
      ]
    },
    {
      "cell_type": "code",
      "execution_count": null,
      "metadata": {
        "id": "uWW7tDtsprPM"
      },
      "outputs": [],
      "source": [
        "final = data_sel.merge(results_processed, left_on='text_id', right_on='text_id')\n",
        "final.head(3)"
      ]
    },
    {
      "cell_type": "code",
      "execution_count": null,
      "metadata": {
        "id": "vrzifFzqpu0c"
      },
      "outputs": [],
      "source": [
        "text_ids_with_errors = final[final.label.isna()].text_id.to_list()\n",
        "list(set(text_ids_with_errors))"
      ]
    },
    {
      "cell_type": "code",
      "execution_count": null,
      "metadata": {
        "id": "RWef81jwpvnC"
      },
      "outputs": [],
      "source": [
        "final  = final[~final.label.isna()]"
      ]
    },
    {
      "cell_type": "code",
      "execution_count": null,
      "metadata": {
        "id": "vlnXHq-wpxX5"
      },
      "outputs": [],
      "source": [
        "import numpy as np\n",
        "from sklearn.metrics import classification_report\n",
        "\n",
        "y_true = final.sdg\n",
        "y_pred = final.label\n",
        "y_true = np.array([int(label) for label in y_true])\n",
        "y_pred = np.array([int(label) for label in y_pred])\n",
        "print(y_true.shape[0])\n",
        "print(y_pred.shape[0])\n",
        "#target_names = ['sdg 0', 'sdg 1', 'sdg 2',  'sdg 3']\n",
        "\n",
        "print(classification_report(y_true, y_pred)) #, target_names=target_names))"
      ]
    },
    {
      "cell_type": "code",
      "execution_count": null,
      "metadata": {
        "id": "aqktdv0Fp067"
      },
      "outputs": [],
      "source": [
        "# classification_report_filename = output_data_path+f'/{experiment_name}_classification_report.xlsx'\n",
        "# classification_report_filename"
      ]
    },
    {
      "cell_type": "code",
      "execution_count": null,
      "metadata": {
        "id": "ojyRvl6bp1gz"
      },
      "outputs": [],
      "source": [
        "# report=classification_report(y_true, y_pred, output_dict=True)\n",
        "# report_df = pd.DataFrame(report).transpose()\n",
        "# report_df.to_excel(classification_report_filename)"
      ]
    },
    {
      "cell_type": "code",
      "execution_count": null,
      "metadata": {
        "id": "DRSGx8e3p3pa"
      },
      "outputs": [],
      "source": [
        "# test = pd.read_excel(classification_report_filename)\n",
        "# test"
      ]
    }
  ],
  "metadata": {
    "accelerator": "GPU",
    "colab": {
      "gpuType": "T4",
      "provenance": []
    },
    "kernelspec": {
      "display_name": "Python 3",
      "name": "python3"
    },
    "language_info": {
      "name": "python"
    },
    "widgets": {
      "application/vnd.jupyter.widget-state+json": {
        "64911d80b41045b39af475374a9ed3af": {
          "model_module": "@jupyter-widgets/controls",
          "model_name": "HBoxModel",
          "model_module_version": "1.5.0",
          "state": {
            "_dom_classes": [],
            "_model_module": "@jupyter-widgets/controls",
            "_model_module_version": "1.5.0",
            "_model_name": "HBoxModel",
            "_view_count": null,
            "_view_module": "@jupyter-widgets/controls",
            "_view_module_version": "1.5.0",
            "_view_name": "HBoxView",
            "box_style": "",
            "children": [
              "IPY_MODEL_04bfc725855f482195c18ee4d824075e",
              "IPY_MODEL_0fad679b50d941e694e98fb40d852760",
              "IPY_MODEL_0fd02a48ed4346da885be9c248418e82"
            ],
            "layout": "IPY_MODEL_80605dd1abbd40b79098adb18772fe4a"
          }
        },
        "04bfc725855f482195c18ee4d824075e": {
          "model_module": "@jupyter-widgets/controls",
          "model_name": "HTMLModel",
          "model_module_version": "1.5.0",
          "state": {
            "_dom_classes": [],
            "_model_module": "@jupyter-widgets/controls",
            "_model_module_version": "1.5.0",
            "_model_name": "HTMLModel",
            "_view_count": null,
            "_view_module": "@jupyter-widgets/controls",
            "_view_module_version": "1.5.0",
            "_view_name": "HTMLView",
            "description": "",
            "description_tooltip": null,
            "layout": "IPY_MODEL_5818caceb7b148c7b996b406ca259c7d",
            "placeholder": "​",
            "style": "IPY_MODEL_263f449c291c4331838fe1261884d528",
            "value": "Loading experts: 100%"
          }
        },
        "0fad679b50d941e694e98fb40d852760": {
          "model_module": "@jupyter-widgets/controls",
          "model_name": "FloatProgressModel",
          "model_module_version": "1.5.0",
          "state": {
            "_dom_classes": [],
            "_model_module": "@jupyter-widgets/controls",
            "_model_module_version": "1.5.0",
            "_model_name": "FloatProgressModel",
            "_view_count": null,
            "_view_module": "@jupyter-widgets/controls",
            "_view_module_version": "1.5.0",
            "_view_name": "ProgressView",
            "bar_style": "success",
            "description": "",
            "description_tooltip": null,
            "layout": "IPY_MODEL_13171bc8e9b54a679b7280ace9cf7a8a",
            "max": 32,
            "min": 0,
            "orientation": "horizontal",
            "style": "IPY_MODEL_866c63e5a46344e9ae55f73483af77dd",
            "value": 32
          }
        },
        "0fd02a48ed4346da885be9c248418e82": {
          "model_module": "@jupyter-widgets/controls",
          "model_name": "HTMLModel",
          "model_module_version": "1.5.0",
          "state": {
            "_dom_classes": [],
            "_model_module": "@jupyter-widgets/controls",
            "_model_module_version": "1.5.0",
            "_model_name": "HTMLModel",
            "_view_count": null,
            "_view_module": "@jupyter-widgets/controls",
            "_view_module_version": "1.5.0",
            "_view_name": "HTMLView",
            "description": "",
            "description_tooltip": null,
            "layout": "IPY_MODEL_0e9e816ef6a34306a2eb0c4488ac41e0",
            "placeholder": "​",
            "style": "IPY_MODEL_c191d4b7ab2a478e9584ecbfde242c70",
            "value": " 32/32 [01:33&lt;00:00,  3.08s/it]"
          }
        },
        "80605dd1abbd40b79098adb18772fe4a": {
          "model_module": "@jupyter-widgets/base",
          "model_name": "LayoutModel",
          "model_module_version": "1.2.0",
          "state": {
            "_model_module": "@jupyter-widgets/base",
            "_model_module_version": "1.2.0",
            "_model_name": "LayoutModel",
            "_view_count": null,
            "_view_module": "@jupyter-widgets/base",
            "_view_module_version": "1.2.0",
            "_view_name": "LayoutView",
            "align_content": null,
            "align_items": null,
            "align_self": null,
            "border": null,
            "bottom": null,
            "display": null,
            "flex": null,
            "flex_flow": null,
            "grid_area": null,
            "grid_auto_columns": null,
            "grid_auto_flow": null,
            "grid_auto_rows": null,
            "grid_column": null,
            "grid_gap": null,
            "grid_row": null,
            "grid_template_areas": null,
            "grid_template_columns": null,
            "grid_template_rows": null,
            "height": null,
            "justify_content": null,
            "justify_items": null,
            "left": null,
            "margin": null,
            "max_height": null,
            "max_width": null,
            "min_height": null,
            "min_width": null,
            "object_fit": null,
            "object_position": null,
            "order": null,
            "overflow": null,
            "overflow_x": null,
            "overflow_y": null,
            "padding": null,
            "right": null,
            "top": null,
            "visibility": null,
            "width": null
          }
        },
        "5818caceb7b148c7b996b406ca259c7d": {
          "model_module": "@jupyter-widgets/base",
          "model_name": "LayoutModel",
          "model_module_version": "1.2.0",
          "state": {
            "_model_module": "@jupyter-widgets/base",
            "_model_module_version": "1.2.0",
            "_model_name": "LayoutModel",
            "_view_count": null,
            "_view_module": "@jupyter-widgets/base",
            "_view_module_version": "1.2.0",
            "_view_name": "LayoutView",
            "align_content": null,
            "align_items": null,
            "align_self": null,
            "border": null,
            "bottom": null,
            "display": null,
            "flex": null,
            "flex_flow": null,
            "grid_area": null,
            "grid_auto_columns": null,
            "grid_auto_flow": null,
            "grid_auto_rows": null,
            "grid_column": null,
            "grid_gap": null,
            "grid_row": null,
            "grid_template_areas": null,
            "grid_template_columns": null,
            "grid_template_rows": null,
            "height": null,
            "justify_content": null,
            "justify_items": null,
            "left": null,
            "margin": null,
            "max_height": null,
            "max_width": null,
            "min_height": null,
            "min_width": null,
            "object_fit": null,
            "object_position": null,
            "order": null,
            "overflow": null,
            "overflow_x": null,
            "overflow_y": null,
            "padding": null,
            "right": null,
            "top": null,
            "visibility": null,
            "width": null
          }
        },
        "263f449c291c4331838fe1261884d528": {
          "model_module": "@jupyter-widgets/controls",
          "model_name": "DescriptionStyleModel",
          "model_module_version": "1.5.0",
          "state": {
            "_model_module": "@jupyter-widgets/controls",
            "_model_module_version": "1.5.0",
            "_model_name": "DescriptionStyleModel",
            "_view_count": null,
            "_view_module": "@jupyter-widgets/base",
            "_view_module_version": "1.2.0",
            "_view_name": "StyleView",
            "description_width": ""
          }
        },
        "13171bc8e9b54a679b7280ace9cf7a8a": {
          "model_module": "@jupyter-widgets/base",
          "model_name": "LayoutModel",
          "model_module_version": "1.2.0",
          "state": {
            "_model_module": "@jupyter-widgets/base",
            "_model_module_version": "1.2.0",
            "_model_name": "LayoutModel",
            "_view_count": null,
            "_view_module": "@jupyter-widgets/base",
            "_view_module_version": "1.2.0",
            "_view_name": "LayoutView",
            "align_content": null,
            "align_items": null,
            "align_self": null,
            "border": null,
            "bottom": null,
            "display": null,
            "flex": null,
            "flex_flow": null,
            "grid_area": null,
            "grid_auto_columns": null,
            "grid_auto_flow": null,
            "grid_auto_rows": null,
            "grid_column": null,
            "grid_gap": null,
            "grid_row": null,
            "grid_template_areas": null,
            "grid_template_columns": null,
            "grid_template_rows": null,
            "height": null,
            "justify_content": null,
            "justify_items": null,
            "left": null,
            "margin": null,
            "max_height": null,
            "max_width": null,
            "min_height": null,
            "min_width": null,
            "object_fit": null,
            "object_position": null,
            "order": null,
            "overflow": null,
            "overflow_x": null,
            "overflow_y": null,
            "padding": null,
            "right": null,
            "top": null,
            "visibility": null,
            "width": null
          }
        },
        "866c63e5a46344e9ae55f73483af77dd": {
          "model_module": "@jupyter-widgets/controls",
          "model_name": "ProgressStyleModel",
          "model_module_version": "1.5.0",
          "state": {
            "_model_module": "@jupyter-widgets/controls",
            "_model_module_version": "1.5.0",
            "_model_name": "ProgressStyleModel",
            "_view_count": null,
            "_view_module": "@jupyter-widgets/base",
            "_view_module_version": "1.2.0",
            "_view_name": "StyleView",
            "bar_color": null,
            "description_width": ""
          }
        },
        "0e9e816ef6a34306a2eb0c4488ac41e0": {
          "model_module": "@jupyter-widgets/base",
          "model_name": "LayoutModel",
          "model_module_version": "1.2.0",
          "state": {
            "_model_module": "@jupyter-widgets/base",
            "_model_module_version": "1.2.0",
            "_model_name": "LayoutModel",
            "_view_count": null,
            "_view_module": "@jupyter-widgets/base",
            "_view_module_version": "1.2.0",
            "_view_name": "LayoutView",
            "align_content": null,
            "align_items": null,
            "align_self": null,
            "border": null,
            "bottom": null,
            "display": null,
            "flex": null,
            "flex_flow": null,
            "grid_area": null,
            "grid_auto_columns": null,
            "grid_auto_flow": null,
            "grid_auto_rows": null,
            "grid_column": null,
            "grid_gap": null,
            "grid_row": null,
            "grid_template_areas": null,
            "grid_template_columns": null,
            "grid_template_rows": null,
            "height": null,
            "justify_content": null,
            "justify_items": null,
            "left": null,
            "margin": null,
            "max_height": null,
            "max_width": null,
            "min_height": null,
            "min_width": null,
            "object_fit": null,
            "object_position": null,
            "order": null,
            "overflow": null,
            "overflow_x": null,
            "overflow_y": null,
            "padding": null,
            "right": null,
            "top": null,
            "visibility": null,
            "width": null
          }
        },
        "c191d4b7ab2a478e9584ecbfde242c70": {
          "model_module": "@jupyter-widgets/controls",
          "model_name": "DescriptionStyleModel",
          "model_module_version": "1.5.0",
          "state": {
            "_model_module": "@jupyter-widgets/controls",
            "_model_module_version": "1.5.0",
            "_model_name": "DescriptionStyleModel",
            "_view_count": null,
            "_view_module": "@jupyter-widgets/base",
            "_view_module_version": "1.2.0",
            "_view_name": "StyleView",
            "description_width": ""
          }
        }
      }
    }
  },
  "nbformat": 4,
  "nbformat_minor": 0
}