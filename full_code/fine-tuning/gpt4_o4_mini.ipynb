{
  "cells": [
    {
      "cell_type": "code",
      "source": [
        "from google.colab import drive\n",
        "from IPython.display import Image, display\n",
        "\n",
        "mount_point = \"/content/gdrive\"\n",
        "base_path = mount_point + \"/MyDrive/Colab/SDG/data\"\n",
        "\n",
        "output_data_path = base_path + \"/../AnalisiTesti/data/output/\"\n",
        "\n",
        "drive.mount(mount_point, force_remount=True)"
      ],
      "metadata": {
        "id": "_NH0OByWfxBc",
        "colab": {
          "base_uri": "https://localhost:8080/"
        },
        "outputId": "f7b9bdea-30e6-45b1-c0a7-4a87cc8084d6"
      },
      "id": "_NH0OByWfxBc",
      "execution_count": null,
      "outputs": [
        {
          "output_type": "stream",
          "name": "stdout",
          "text": [
            "Mounted at /content/gdrive\n"
          ]
        }
      ]
    },
    {
      "cell_type": "code",
      "execution_count": null,
      "id": "5e2bca46",
      "metadata": {
        "id": "5e2bca46",
        "colab": {
          "base_uri": "https://localhost:8080/"
        },
        "outputId": "c68b8295-297f-4bab-fe60-2e3fb5a42cce"
      },
      "outputs": [
        {
          "output_type": "stream",
          "name": "stdout",
          "text": [
            "Found existing installation: openai 1.76.2\n",
            "Uninstalling openai-1.76.2:\n",
            "  Successfully uninstalled openai-1.76.2\n"
          ]
        }
      ],
      "source": [
        "!pip uninstall -y openai"
      ]
    },
    {
      "cell_type": "code",
      "execution_count": null,
      "id": "a0e21f98",
      "metadata": {
        "id": "a0e21f98"
      },
      "outputs": [],
      "source": [
        "!pip install -q openai --progress-bar off\n",
        "# !pip install openai==0.28 # questa versione mi serve per recuperare il file con le metriche di validazione"
      ]
    },
    {
      "cell_type": "code",
      "execution_count": null,
      "id": "76df469a",
      "metadata": {
        "id": "76df469a"
      },
      "outputs": [],
      "source": [
        "import openai\n",
        "from openai import OpenAI"
      ]
    },
    {
      "cell_type": "code",
      "execution_count": null,
      "id": "acd4b733",
      "metadata": {
        "id": "acd4b733",
        "colab": {
          "base_uri": "https://localhost:8080/",
          "height": 36
        },
        "outputId": "730fa1aa-a744-46b7-942d-9729319e9b6f"
      },
      "outputs": [
        {
          "output_type": "execute_result",
          "data": {
            "text/plain": [
              "'1.78.0'"
            ],
            "application/vnd.google.colaboratory.intrinsic+json": {
              "type": "string"
            }
          },
          "metadata": {},
          "execution_count": 5
        }
      ],
      "source": [
        "openai.__version__"
      ]
    },
    {
      "cell_type": "code",
      "execution_count": null,
      "id": "304a3b76",
      "metadata": {
        "id": "304a3b76"
      },
      "outputs": [],
      "source": [
        "import os\n",
        "from IPython.display import clear_output\n",
        "os.environ[\"OPENAI_API_KEY\"] = input(\"INSERT YOU OPENAI API KEY:\")\n",
        "clear_output()"
      ]
    },
    {
      "cell_type": "code",
      "execution_count": null,
      "id": "8dfe26df",
      "metadata": {
        "id": "8dfe26df"
      },
      "outputs": [],
      "source": [
        "client = OpenAI() # per importare questo forse bisogna usare la versione superiore alla 0.28"
      ]
    },
    {
      "cell_type": "code",
      "execution_count": null,
      "id": "5a9d8aa3",
      "metadata": {
        "id": "5a9d8aa3"
      },
      "outputs": [],
      "source": [
        "train_file = client.files.create(\n",
        "  file=open(output_data_path+'../../FineTuning/GPT4_o4-mini/GPT4_o4mini_Fine_Tuning_SDG_TRAIN_data.jsonl', \"rb\"),\n",
        "  purpose=\"fine-tune\"\n",
        ")"
      ]
    },
    {
      "cell_type": "code",
      "execution_count": null,
      "id": "f72d5cda",
      "metadata": {
        "id": "f72d5cda"
      },
      "outputs": [],
      "source": [
        "# INIZIO FINE-TUNING: 2025.05.07 - 13:52"
      ]
    },
    {
      "cell_type": "code",
      "execution_count": null,
      "id": "e7896c27",
      "metadata": {
        "id": "e7896c27",
        "colab": {
          "base_uri": "https://localhost:8080/"
        },
        "outputId": "f6fbe608-7838-4680-a44e-b2e31c152442"
      },
      "outputs": [
        {
          "output_type": "execute_result",
          "data": {
            "text/plain": [
              "FineTuningJob(id='ftjob-SSEJQ7RrvaXwe3j0WCDnwdNl', created_at=1747041108, error=Error(code=None, message=None, param=None), fine_tuned_model=None, finished_at=None, hyperparameters=Hyperparameters(batch_size=14, learning_rate_multiplier=1.0, n_epochs=5), model='gpt-4o-mini-2024-07-18', object='fine_tuning.job', organization_id='org-hEJHODxUncvu1wXjXkKBMFis', result_files=[], seed=1133877395, status='validating_files', trained_tokens=None, training_file='file-9DRiXV86W2MAq1u9XTndLS', validation_file=None, estimated_finish=None, integrations=[], metadata=None, method=Method(type='supervised', dpo=None, reinforcement=None, supervised=SupervisedMethod(hyperparameters=SupervisedHyperparameters(batch_size=14, learning_rate_multiplier=1.0, n_epochs=5))), user_provided_suffix=None, usage_metrics=None, shared_with_openai=False, eval_id=None)"
            ]
          },
          "metadata": {},
          "execution_count": 10
        }
      ],
      "source": [
        "client.fine_tuning.jobs.create(\n",
        "  training_file=train_file.id,\n",
        "  model=\"gpt-4o-mini-2024-07-18\",\n",
        "  method= {\n",
        "    \"type\": \"supervised\",\n",
        "    \"supervised\": {\n",
        "      \"hyperparameters\": {\n",
        "        \"batch_size\": 14,\n",
        "        \"learning_rate_multiplier\": 1.00,\n",
        "        \"n_epochs\": 5,\n",
        "      }\n",
        "    }\n",
        "  }\n",
        ")"
      ]
    },
    {
      "cell_type": "code",
      "execution_count": null,
      "id": "bae6ffec",
      "metadata": {
        "id": "bae6ffec",
        "colab": {
          "base_uri": "https://localhost:8080/"
        },
        "outputId": "0490faa8-3307-40a1-bcdd-5a6d171debf3"
      },
      "outputs": [
        {
          "output_type": "execute_result",
          "data": {
            "text/plain": [
              "FineTuningJob(id='ftjob-SSEJQ7RrvaXwe3j0WCDnwdNl', created_at=1747041108, error=Error(code=None, message=None, param=None), fine_tuned_model=None, finished_at=None, hyperparameters=Hyperparameters(batch_size=14, learning_rate_multiplier=1.0, n_epochs=5), model='gpt-4o-mini-2024-07-18', object='fine_tuning.job', organization_id='org-hEJHODxUncvu1wXjXkKBMFis', result_files=[], seed=1133877395, status='validating_files', trained_tokens=None, training_file='file-9DRiXV86W2MAq1u9XTndLS', validation_file=None, estimated_finish=None, integrations=[], metadata=None, method=Method(type='supervised', dpo=None, reinforcement=None, supervised=SupervisedMethod(hyperparameters=SupervisedHyperparameters(batch_size=14, learning_rate_multiplier=1.0, n_epochs=5))), user_provided_suffix=None, usage_metrics=None, shared_with_openai=False, eval_id=None)"
            ]
          },
          "metadata": {},
          "execution_count": 16
        }
      ],
      "source": [
        "client.fine_tuning.jobs.retrieve(\"ftjob-SSEJQ7RrvaXwe3j0WCDnwdNl\")"
      ]
    },
    {
      "cell_type": "code",
      "source": [
        "client.fine_tuning.jobs.retrieve(\"ftjob-SSEJQ7RrvaXwe3j0WCDnwdNl\") #"
      ],
      "metadata": {
        "id": "vSwbTzfvxql1",
        "colab": {
          "base_uri": "https://localhost:8080/"
        },
        "outputId": "19a88c2e-8b79-4cac-fd00-73fde41d6c1c"
      },
      "id": "vSwbTzfvxql1",
      "execution_count": null,
      "outputs": [
        {
          "output_type": "execute_result",
          "data": {
            "text/plain": [
              "FineTuningJob(id='ftjob-O5oWYlFFDWsdWo4b6nWxsy3S', created_at=1746802824, error=Error(code=None, message=None, param=None), fine_tuned_model='ft:gpt-4o-mini-2024-07-18:personal::BVKQW3Xa', finished_at=1746806386, hyperparameters=Hyperparameters(batch_size=11, learning_rate_multiplier=1.8, n_epochs=6), model='ft:gpt-4o-mini-2024-07-18:personal::BUYNJuAx', object='fine_tuning.job', organization_id='org-hEJHODxUncvu1wXjXkKBMFis', result_files=['file-LcJ4P36bKEX6MpgD8RbdxX'], seed=571240106, status='succeeded', trained_tokens=12382926, training_file='file-LbZdvADtaP7u5VcMVzzRXh', validation_file=None, estimated_finish=None, integrations=[], metadata=None, method=Method(type='supervised', dpo=None, reinforcement=None, supervised=SupervisedMethod(hyperparameters=SupervisedHyperparameters(batch_size=11, learning_rate_multiplier=1.8, n_epochs=6))), user_provided_suffix=None, usage_metrics=None, shared_with_openai=False, eval_id=None)"
            ]
          },
          "metadata": {},
          "execution_count": 12
        }
      ]
    }
  ],
  "metadata": {
    "kernelspec": {
      "display_name": "Python 3 (ipykernel)",
      "language": "python",
      "name": "python3"
    },
    "language_info": {
      "codemirror_mode": {
        "name": "ipython",
        "version": 3
      },
      "file_extension": ".py",
      "mimetype": "text/x-python",
      "name": "python",
      "nbconvert_exporter": "python",
      "pygments_lexer": "ipython3",
      "version": "3.10.8"
    },
    "colab": {
      "provenance": []
    }
  },
  "nbformat": 4,
  "nbformat_minor": 5
}